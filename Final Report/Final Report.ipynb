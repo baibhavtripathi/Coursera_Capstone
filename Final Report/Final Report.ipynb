{
 "cells": [
  {
   "cell_type": "markdown",
   "metadata": {},
   "source": [
    "# Final report"
   ]
  },
  {
   "cell_type": "markdown",
   "metadata": {},
   "source": [
    "## Introduction/Business Problem"
   ]
  },
  {
   "cell_type": "markdown",
   "metadata": {},
   "source": [
    "Today our home, work related issues force us to move to different places as opportunity appears, or to move in a more promising place in hope of opportunity.\n",
    "\n",
    "The business problem in this study, is to identify the potential of life and business opportunity based on the locality and the activities in this metro city( Delhi).\n",
    "\n",
    "One can search for a potential home based on his/her preferences about the choices and likes. Or someone can identify and cash on the possible opportunity by either introducing a product/service in these area based on the finding in this study."
   ]
  },
  {
   "cell_type": "markdown",
   "metadata": {},
   "source": [
    "## Data"
   ]
  },
  {
   "cell_type": "markdown",
   "metadata": {},
   "source": [
    "We are using the official data provided by the Government of India about the Delhi locality on its postal code for all India. We will remove all other location information and use the data for Delhi only.\n",
    "\n",
    "Source : We will specifically download the CSV file provided at - https://data.gov.in/resources/all-india-pincode-directory-contact-details-along-latitude-and-longitude.\n",
    "\n",
    "Foursquare will help in finding the clusters and popular activities in a given neighbourhood.\n",
    "\n",
    "Subject can be someone who is in search for a hotspot or locality as per their own preferences and this study can also be used for possible business opportunity."
   ]
  },
  {
   "cell_type": "code",
   "execution_count": null,
   "metadata": {},
   "outputs": [],
   "source": []
  }
 ],
 "metadata": {
  "kernelspec": {
   "display_name": "Python 3",
   "language": "python",
   "name": "python3"
  },
  "language_info": {
   "codemirror_mode": {
    "name": "ipython",
    "version": 3
   },
   "file_extension": ".py",
   "mimetype": "text/x-python",
   "name": "python",
   "nbconvert_exporter": "python",
   "pygments_lexer": "ipython3",
   "version": "3.6.10"
  }
 },
 "nbformat": 4,
 "nbformat_minor": 4
}
